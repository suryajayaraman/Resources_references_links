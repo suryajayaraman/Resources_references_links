{
 "cells": [
  {
   "cell_type": "markdown",
   "metadata": {},
   "source": [
    "## Linux_Commands\n",
    "\n",
    "1. Listing files / directories by size \n",
    "\n",
    "> https://www.tecmint.com/find-top-large-directories-and-files-sizes-in-linux/\n",
    "\n",
    "\n",
    "2. Disk formating / flashing (SD card related etc)\n",
    "> df -h\n",
    "> "
   ]
  },
  {
   "cell_type": "markdown",
   "metadata": {},
   "source": [
    "## Docker tutorial\n",
    "\n",
    "1. YouTube series\n",
    "\n",
    "> https://www.youtube.com/watch?v=wi-MGFhrad0&list=PLhW3qG5bs-L99pQsZ74f-LC-tOEsBp2rK"
   ]
  },
  {
   "cell_type": "markdown",
   "metadata": {},
   "source": [
    "## Research papers"
   ]
  },
  {
   "cell_type": "markdown",
   "metadata": {},
   "source": [
    "**1. Real-Time Hybrid Multi-Sensor Fusion Framework for Perception in Autonomous Vehicles.**\n",
    "\n",
    "Objective of the algorithm is to perceive the environment (Perception) - `drivable space estimation and estimate \n",
    "states of objects by fusing data from Lidar, Camera and RADAR sensors`. The presented algorithm is aimed at `real \n",
    "time implementation on an embedded device` while achieving accuracies similar to benchmark models. Hybrid comes \n",
    "from the part that two parallel algorithms namely\n",
    "\n",
    "a. Camera + Lidar for road segmentation, object detection\n",
    "b. Lidar + Radar for obstacle detection and state tracking\n",
    "\n",
    "are run and results are overlaid to get a better sense of environment\n",
    "\n",
    "\n",
    "**Paper link**\n",
    "https://www.mdpi.com/1424-8220/19/20/4357\n"
   ]
  }
 ],
 "metadata": {
  "kernelspec": {
   "display_name": "Python 3",
   "language": "python",
   "name": "python3"
  },
  "language_info": {
   "codemirror_mode": {
    "name": "ipython",
    "version": 3
   },
   "file_extension": ".py",
   "mimetype": "text/x-python",
   "name": "python",
   "nbconvert_exporter": "python",
   "pygments_lexer": "ipython3",
   "version": "3.5.6"
  }
 },
 "nbformat": 4,
 "nbformat_minor": 2
}
