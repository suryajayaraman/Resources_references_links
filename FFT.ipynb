# FFT, denoising data useful links
